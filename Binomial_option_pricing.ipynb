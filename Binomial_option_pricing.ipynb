{
 "cells": [
  {
   "cell_type": "code",
   "execution_count": 1,
   "id": "908b9b1b",
   "metadata": {
    "ExecuteTime": {
     "end_time": "2024-07-07T23:47:07.253728Z",
     "start_time": "2024-07-07T23:47:07.246801Z"
    }
   },
   "outputs": [
    {
     "name": "stdout",
     "output_type": "stream",
     "text": [
      "1.0\n",
      "4.0\n",
      "6.0\n",
      "4.0\n",
      "1.0\n"
     ]
    }
   ],
   "source": [
    "# coin toss combos\n",
    "\n",
    "# Say we flip a coin n times and we get paid $1 for each H greater than some value k the formula below is the combinatorics formula\n",
    "\n",
    "import math\n",
    "\n",
    "def combos(n, i):\n",
    "    return math.factorial(n) / (math.factorial(n-i)*math.factorial(i))\n",
    "\n",
    "for i in range(5):\n",
    "    print(combos(4,i))"
   ]
  },
  {
   "cell_type": "code",
   "execution_count": 2,
   "id": "692a0c69",
   "metadata": {
    "ExecuteTime": {
     "end_time": "2024-07-07T23:50:45.618801Z",
     "start_time": "2024-07-07T23:50:45.612757Z"
    }
   },
   "outputs": [
    {
     "name": "stdout",
     "output_type": "stream",
     "text": [
      "2.0\n"
     ]
    }
   ],
   "source": [
    "# Fair value\n",
    "# \n",
    "\n",
    "fair_value = 0 \n",
    "n= 4 # number of coin flips\n",
    "for k in range(n+1):\n",
    "    fair_value += combos(n,k)*0.5**k*0.5**(n-k) * k\n",
    "    \n",
    "print(fair_value)"
   ]
  },
  {
   "cell_type": "code",
   "execution_count": 3,
   "id": "bd4270f3",
   "metadata": {
    "ExecuteTime": {
     "end_time": "2024-07-07T23:53:07.742617Z",
     "start_time": "2024-07-07T23:53:07.737185Z"
    }
   },
   "outputs": [
    {
     "name": "stdout",
     "output_type": "stream",
     "text": [
      "1.26953125\n"
     ]
    }
   ],
   "source": [
    "# Now consider if we wanted to price a game in which we get $1 per head over a certain threshold. \n",
    "# Let's take an example where we flip a coin 10 times and get $1 for each head over 6.\n",
    "\n",
    "fair_value = 0 \n",
    "n= 10 # number of coin flips\n",
    "for k in range(7,n+1):\n",
    "    fair_value += combos(n,k)*0.5**k*0.5**(n-k) * k\n",
    "    \n",
    "print(fair_value)"
   ]
  },
  {
   "cell_type": "markdown",
   "id": "931eb9a0",
   "metadata": {},
   "source": [
    "__Option Pricing__"
   ]
  },
  {
   "cell_type": "code",
   "execution_count": 4,
   "id": "25400547",
   "metadata": {
    "ExecuteTime": {
     "end_time": "2024-07-08T09:37:09.948935Z",
     "start_time": "2024-07-08T09:37:09.933782Z"
    }
   },
   "outputs": [],
   "source": [
    "import numpy as np\n",
    "# Initialise parameters\n",
    "S0 = 100      # initial stock price\n",
    "K = 100       # strike price\n",
    "T = 1         # time to maturity in years\n",
    "r = 0.06      # annual risk-free rate\n",
    "N = 3         # number of time steps\n",
    "u = 1.1       # up-factor in binomial models\n",
    "d = 1/u       # ensure recombining tree\n",
    "opttype = 'C' # Option Type 'C' or 'P'"
   ]
  },
  {
   "cell_type": "code",
   "execution_count": 6,
   "id": "c4b9fec5",
   "metadata": {
    "ExecuteTime": {
     "end_time": "2024-07-08T09:38:02.505528Z",
     "start_time": "2024-07-08T09:38:02.490409Z"
    }
   },
   "outputs": [
    {
     "data": {
      "text/plain": [
       "10.145735799928817"
      ]
     },
     "execution_count": 6,
     "metadata": {},
     "output_type": "execute_result"
    }
   ],
   "source": [
    "def binomial_tree_slow(K,T,S0,r,N,u,d,opttype='C'):\n",
    "    #precompute constants\n",
    "    dt = T/N\n",
    "    q = (np.exp(r*dt) - d) / (u-d)\n",
    "    disc = np.exp(-r*dt)\n",
    "    \n",
    "    # initialise asset prices at maturity - Time step N\n",
    "    S = np.zeros(N+1)\n",
    "    S[0] = S0*d**N\n",
    "    for j in range(1,N+1):\n",
    "        S[j] = S[j-1]*u/d\n",
    "    \n",
    "    # initialise option values at maturity\n",
    "    C = np.zeros(N+1)\n",
    "    for j in range(0,N+1):\n",
    "        C[j] = max(0, S[j]-K)\n",
    "        \n",
    "    # step backwards through tree\n",
    "    for i in np.arange(N,0,-1):\n",
    "        for j in range(0,i):\n",
    "            C[j] = disc * ( q*C[j+1] + (1-q)*C[j] )\n",
    "    \n",
    "    return C[0]\n",
    "\n",
    "binomial_tree_slow(K,T,S0,r,N,u,d,opttype='C')"
   ]
  },
  {
   "cell_type": "code",
   "execution_count": 7,
   "id": "3712f257",
   "metadata": {
    "ExecuteTime": {
     "end_time": "2024-07-08T09:38:43.000131Z",
     "start_time": "2024-07-08T09:38:42.987749Z"
    }
   },
   "outputs": [
    {
     "data": {
      "text/plain": [
       "10.145735799928826"
      ]
     },
     "execution_count": 7,
     "metadata": {},
     "output_type": "execute_result"
    }
   ],
   "source": [
    "\n",
    "def binomial_tree_fast(K,T,S0,r,N,u,d,opttype='C'):\n",
    "    #precompute constants\n",
    "    dt = T/N\n",
    "    q = (np.exp(r*dt) - d) / (u-d)\n",
    "    disc = np.exp(-r*dt)\n",
    "    \n",
    "    # initialise asset prices at maturity - Time step N\n",
    "    C = S0 * d ** (np.arange(N,-1,-1)) * u ** (np.arange(0,N+1,1)) \n",
    "    \n",
    "    # initialise option values at maturity\n",
    "    C = np.maximum( C - K , np.zeros(N+1) )\n",
    "        \n",
    "    # step backwards through tree\n",
    "    for i in np.arange(N,0,-1):\n",
    "        C = disc * ( q * C[1:i+1] + (1-q) * C[0:i] )\n",
    "    \n",
    "    return C[0]\n",
    "\n",
    "binomial_tree_fast(K,T,S0,r,N,u,d,opttype='C')"
   ]
  },
  {
   "cell_type": "code",
   "execution_count": 8,
   "id": "a9b5bd49",
   "metadata": {
    "ExecuteTime": {
     "end_time": "2024-07-08T09:39:23.008553Z",
     "start_time": "2024-07-08T09:39:14.592332Z"
    }
   },
   "outputs": [],
   "source": [
    "for N in [3,50, 100, 1000, 5000]:\n",
    "    binomial_tree_slow(K,T,S0,r,N,u,d,opttype='C')\n",
    "    binomial_tree_fast(K,T,S0,r,N,u,d,opttype='C')"
   ]
  },
  {
   "cell_type": "code",
   "execution_count": null,
   "id": "dd0b3760",
   "metadata": {},
   "outputs": [],
   "source": []
  }
 ],
 "metadata": {
  "kernelspec": {
   "display_name": "Python 3 (ipykernel)",
   "language": "python",
   "name": "python3"
  },
  "language_info": {
   "codemirror_mode": {
    "name": "ipython",
    "version": 3
   },
   "file_extension": ".py",
   "mimetype": "text/x-python",
   "name": "python",
   "nbconvert_exporter": "python",
   "pygments_lexer": "ipython3",
   "version": "3.12.3"
  },
  "toc": {
   "base_numbering": 1,
   "nav_menu": {},
   "number_sections": true,
   "sideBar": true,
   "skip_h1_title": false,
   "title_cell": "Table of Contents",
   "title_sidebar": "Contents",
   "toc_cell": false,
   "toc_position": {},
   "toc_section_display": true,
   "toc_window_display": false
  },
  "varInspector": {
   "cols": {
    "lenName": 16,
    "lenType": 16,
    "lenVar": 40
   },
   "kernels_config": {
    "python": {
     "delete_cmd_postfix": "",
     "delete_cmd_prefix": "del ",
     "library": "var_list.py",
     "varRefreshCmd": "print(var_dic_list())"
    },
    "r": {
     "delete_cmd_postfix": ") ",
     "delete_cmd_prefix": "rm(",
     "library": "var_list.r",
     "varRefreshCmd": "cat(var_dic_list()) "
    }
   },
   "types_to_exclude": [
    "module",
    "function",
    "builtin_function_or_method",
    "instance",
    "_Feature"
   ],
   "window_display": false
  }
 },
 "nbformat": 4,
 "nbformat_minor": 5
}
