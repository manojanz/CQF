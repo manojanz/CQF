{
 "cells": [
  {
   "cell_type": "markdown",
   "id": "bd1623b6",
   "metadata": {
    "ExecuteTime": {
     "end_time": "2024-07-08T11:23:20.472111Z",
     "start_time": "2024-07-08T11:23:20.463845Z"
    }
   },
   "source": [
    "# Example\n",
    "---"
   ]
  },
  {
   "cell_type": "markdown",
   "id": "44453114",
   "metadata": {
    "ExecuteTime": {
     "end_time": "2024-07-08T10:56:24.780895Z",
     "start_time": "2024-07-08T10:56:24.750424Z"
    }
   },
   "source": [
    "Play a game that we get paid 1 for each H above some threshold value. Say we flip a coin n times and we get paid 1 for each H greater than some value k the formula below is the combinatorics formula.\n",
    "\n",
    "$$ \\binom{n}{k} = \\frac {n!} {k!(n-k)!} $$"
   ]
  },
  {
   "cell_type": "code",
   "execution_count": 1,
   "id": "e6db5925",
   "metadata": {
    "ExecuteTime": {
     "end_time": "2024-07-07T23:47:07.253728Z",
     "start_time": "2024-07-07T23:47:07.246801Z"
    }
   },
   "outputs": [
    {
     "name": "stdout",
     "output_type": "stream",
     "text": [
      "1.0\n",
      "4.0\n",
      "6.0\n",
      "4.0\n",
      "1.0\n"
     ]
    }
   ],
   "source": [
    "# coin toss combos\n",
    "\n",
    "# Say we flip a coin n times and we get paid $1 for each H greater than some value k the formula below is the combinatorics formula\n",
    "\n",
    "import math\n",
    "\n",
    "def combos(n, i):\n",
    "    return math.factorial(n) / (math.factorial(n-i)*math.factorial(i))\n",
    "\n",
    "for i in range(5):\n",
    "    print(combos(4,i))"
   ]
  },
  {
   "cell_type": "markdown",
   "id": "1549371f",
   "metadata": {},
   "source": [
    "We can also recover the probability of each outcome, in the coin flipping example the probability p of heads is 0.5 and k is number of heads observed.\n",
    "\n",
    "$$ \\binom{n}{k} p^k(1-p)^{n-k} $$\n",
    "\n",
    "We can then find the payoff by using the following formula. \n",
    "\n",
    "$$ \\sum_{n=1}^n \\binom{n}{k} p^k(1-p)^{n-k}k $$"
   ]
  },
  {
   "cell_type": "code",
   "execution_count": 2,
   "id": "1ed23fe1",
   "metadata": {
    "ExecuteTime": {
     "end_time": "2024-07-07T23:50:45.618801Z",
     "start_time": "2024-07-07T23:50:45.612757Z"
    }
   },
   "outputs": [
    {
     "name": "stdout",
     "output_type": "stream",
     "text": [
      "2.0\n"
     ]
    }
   ],
   "source": [
    "# Fair value\n",
    "# \n",
    "\n",
    "fair_value = 0 \n",
    "n= 4 # number of coin flips\n",
    "for k in range(n+1):\n",
    "    fair_value += combos(n,k)*0.5**k*0.5**(n-k) * k\n",
    "    \n",
    "print(fair_value)"
   ]
  },
  {
   "cell_type": "code",
   "execution_count": 3,
   "id": "4c8a9c98",
   "metadata": {
    "ExecuteTime": {
     "end_time": "2024-07-07T23:53:07.742617Z",
     "start_time": "2024-07-07T23:53:07.737185Z"
    }
   },
   "outputs": [
    {
     "name": "stdout",
     "output_type": "stream",
     "text": [
      "1.26953125\n"
     ]
    }
   ],
   "source": [
    "# Now consider if we wanted to price a game in which we get $1 per head over a certain threshold. \n",
    "# Let's take an example where we flip a coin 10 times and get $1 for each head over 6.\n",
    "\n",
    "fair_value = 0 \n",
    "n= 10 # number of coin flips\n",
    "for k in range(7,n+1):\n",
    "    fair_value += combos(n,k)*0.5**k*0.5**(n-k) * k\n",
    "    \n",
    "print(fair_value)"
   ]
  },
  {
   "cell_type": "markdown",
   "id": "76b2a021",
   "metadata": {},
   "source": [
    "# Option Pricing\n",
    "---"
   ]
  },
  {
   "cell_type": "markdown",
   "id": "00c19053",
   "metadata": {},
   "source": [
    "Let's introduce two terms u and d which denote up movement and down movement respectively. \n",
    "- Su represents the price at the up state, and \n",
    "- Sd represents the price at the downstate. Also take note of the value \n",
    "- p which is representative of the risk neutral probability of an up move. Let \n",
    "- r = (1+ interest)\n",
    "\n",
    "$ p = \\frac {r - d}{u - d} $\n",
    "\n",
    "\n",
    "$ binomial  value = \\frac {1}{r} \\left[ max \\left(S_u - K, 0 \\right) * p + max \\left(S_d - K, 0 \\right) * (1-p) \\right] $\n"
   ]
  },
  {
   "cell_type": "markdown",
   "id": "a0178e44",
   "metadata": {
    "ExecuteTime": {
     "end_time": "2024-07-08T11:46:25.902219Z",
     "start_time": "2024-07-08T11:46:25.886168Z"
    }
   },
   "source": [
    "__Determining u and d__"
   ]
  },
  {
   "cell_type": "markdown",
   "id": "fe355f7f",
   "metadata": {},
   "source": [
    "In the example above both u and d where given as 2 and 0.5 respectively. However, in practice these values won't be readily available, in order to estimate these values we can use the asset's volatility. Let's take another example in which there is a stock trading for $100, a call option with a strike price of $105 and a time to maturity of 6 months. You estimate the volatility from historic data at 40%. Say we want to estimate the price using 4 steps as opposed to the one step tree shown above, in order to do this we will need to use natural exponents since they have the following property \n",
    "$ e^ae^b = e^{a+b} $ this is also useful to apply to the risk free rate to represent continuous compounding. "
   ]
  },
  {
   "cell_type": "markdown",
   "id": "bc26789e",
   "metadata": {},
   "source": [
    "$ u = e^{\\sigma \\sqrt {\\Delta t}} $\n",
    "\n",
    "$ d = e^{-\\sigma \\sqrt {\\Delta t}} $\n",
    "\n",
    "$ p = \\frac{ e^{(r \\Delta t)} - d } { u - d} $"
   ]
  },
  {
   "cell_type": "code",
   "execution_count": 9,
   "id": "4c884cb2",
   "metadata": {
    "ExecuteTime": {
     "end_time": "2024-07-08T09:56:28.850209Z",
     "start_time": "2024-07-08T09:56:28.833763Z"
    }
   },
   "outputs": [
    {
     "name": "stdout",
     "output_type": "stream",
     "text": [
      "176.07 71.07\n",
      "132.69 27.69\n",
      "100.0 0\n",
      "75.36 0\n",
      "56.8 0\n"
     ]
    }
   ],
   "source": [
    "N = 4\n",
    "S0  = 100\n",
    "T = 0.5\n",
    "sigma = 0.4\n",
    "dt = T/N\n",
    "K =105\n",
    "r = 0.05\n",
    "u = np.exp( sigma * np.sqrt(dt) )\n",
    "d =  np.exp( -sigma * np.sqrt(dt) )\n",
    "p = ( np.exp(r*dt) - d) / (u -d)\n",
    "\n",
    "for k in reversed(range(N+1)):\n",
    "    ST = S0 * u**k * d ** (N-k)\n",
    "    print(round(ST,2), round(max(ST-K,0),2))\n"
   ]
  },
  {
   "cell_type": "markdown",
   "id": "19f334f3",
   "metadata": {},
   "source": [
    "The probability at each node is given by the following. Let k be the number of up moves in the stock. \n",
    "\n",
    "$$ P^* = {\\binom{N}{k} p^k (1 - p)^{N - k}} = {\\binom{N}{k} \\left(\\frac{ e^{(r \\Delta t)} - d } { u - d} \\right)^k \\left(1 - \\frac {e^{(r \\Delta t)} - d} { u - d} \\right)^{N - k}} $$"
   ]
  },
  {
   "cell_type": "code",
   "execution_count": 10,
   "id": "dbfb5e22",
   "metadata": {
    "ExecuteTime": {
     "end_time": "2024-07-08T10:01:43.435754Z",
     "start_time": "2024-07-08T10:01:43.426605Z"
    }
   },
   "outputs": [
    {
     "name": "stdout",
     "output_type": "stream",
     "text": [
      "0.06\n",
      "0.24\n",
      "0.37\n",
      "0.26\n",
      "0.07\n"
     ]
    }
   ],
   "source": [
    "def combos(n, i):\n",
    "    return math.factorial(n) / (math.factorial(n-i)*math.factorial(i))\n",
    "    \n",
    "for k in reversed(range(N+1)):\n",
    "    p_star = combos(N, k)*p**k *(1-p)**(N-k)\n",
    "    print(round(p_star,2))"
   ]
  },
  {
   "cell_type": "markdown",
   "id": "1cd5457d",
   "metadata": {},
   "source": [
    "# Finding the value of the call\n",
    "---\n"
   ]
  },
  {
   "cell_type": "markdown",
   "id": "30191519",
   "metadata": {},
   "source": [
    "The value of the call is then simply a weighted average of the values at each node multiplied by the corresponding probability value. \n",
    "\n",
    "$$ C_K = \\sum_{k}^N \\binom{N}{k} p^k (1-p)^{N-k} max\\left( S_0 u^k (d)^{N-k} -K,0 \\right) $$"
   ]
  },
  {
   "cell_type": "code",
   "execution_count": 14,
   "id": "eefd98b5",
   "metadata": {
    "ExecuteTime": {
     "end_time": "2024-07-08T12:59:43.047432Z",
     "start_time": "2024-07-08T12:59:43.016647Z"
    }
   },
   "outputs": [
    {
     "name": "stdout",
     "output_type": "stream",
     "text": [
      "10.287301121702995\n"
     ]
    }
   ],
   "source": [
    "C=0   \n",
    "for k in reversed(range(N+1)):\n",
    "    p_star = combos(N, k)*p**k *(1-p)**(N-k)\n",
    "    ST = S0 * u**k * d ** (N-k)\n",
    "    C += max(ST-K,0)*p_star\n",
    "    \n",
    "print(np.exp(-r*T)*C)"
   ]
  },
  {
   "cell_type": "code",
   "execution_count": 15,
   "id": "431ccd1a",
   "metadata": {
    "ExecuteTime": {
     "end_time": "2024-07-08T13:00:39.838588Z",
     "start_time": "2024-07-08T13:00:39.804842Z"
    }
   },
   "outputs": [
    {
     "data": {
      "text/plain": [
       "10.287301121702995"
      ]
     },
     "execution_count": 15,
     "metadata": {},
     "output_type": "execute_result"
    }
   ],
   "source": [
    "N =4\n",
    "S0  = 100\n",
    "T = 0.5\n",
    "sigma = 0.4\n",
    "K = 105\n",
    "r = 0.05\n",
    "\n",
    "def binom_EU1(S0, K , T, r, sigma, N, type_ = 'call'):\n",
    "    dt = T/N\n",
    "    u = np.exp(sigma * np.sqrt(dt))\n",
    "    d = np.exp(-sigma * np.sqrt(dt))\n",
    "    p = (  np.exp(r*dt) - d )  /  (  u - d )\n",
    "    value = 0 \n",
    "    for i in range(N+1):\n",
    "        node_prob = combos(N, i)*p**i*(1-p)**(N-i)\n",
    "        ST = S0*(u)**i*(d)**(N-i)\n",
    "        if type_ == 'call':\n",
    "            value += max(ST-K,0) * node_prob\n",
    "        elif type_ == 'put':\n",
    "            value += max(K-ST, 0)*node_prob\n",
    "        else:\n",
    "            raise ValueError(\"type_ must be 'call' or 'put'\" )\n",
    "    \n",
    "    return value*np.exp(-r*T)\n",
    "\n",
    "\n",
    "binom_EU1(S0, K, T, r,sigma, N)"
   ]
  },
  {
   "cell_type": "code",
   "execution_count": 16,
   "id": "2092a983",
   "metadata": {
    "ExecuteTime": {
     "end_time": "2024-07-08T13:01:16.740466Z",
     "start_time": "2024-07-08T13:01:16.672591Z"
    }
   },
   "outputs": [
    {
     "name": "stdout",
     "output_type": "stream",
     "text": [
      "Price is 2 steps is 9.99\n",
      "Price is 4 steps is 10.29\n",
      "Price is 6 steps is 10.35\n",
      "Price is 8 steps is 10.37\n",
      "Price is 10 steps is 10.37\n",
      "Price is 20 steps is 10.34\n",
      "Price is 50 steps is 10.27\n",
      "Price is 100 steps is 10.22\n",
      "Price is 200 steps is 10.22\n",
      "Price is 300 steps is 10.23\n",
      "Price is 400 steps is 10.22\n",
      "Price is 500 steps is 10.22\n",
      "Price is 600 steps is 10.22\n"
     ]
    }
   ],
   "source": [
    "Ns = [2, 4, 6, 8, 10, 20, 50, 100, 200, 300, 400,500, 600]\n",
    "    \n",
    "\n",
    "for n in Ns:\n",
    "    c = binom_EU1(S0, K, T, r,sigma, n)\n",
    "    print(f'Price is {n} steps is {round(c,2)}')"
   ]
  },
  {
   "cell_type": "markdown",
   "id": "4430aaf6",
   "metadata": {},
   "source": [
    "__Coin Flipping Option Model__"
   ]
  },
  {
   "cell_type": "code",
   "execution_count": 19,
   "id": "c6e6056c",
   "metadata": {
    "ExecuteTime": {
     "end_time": "2024-07-08T13:59:47.533240Z",
     "start_time": "2024-07-08T13:59:46.875564Z"
    }
   },
   "outputs": [
    {
     "data": {
      "text/plain": [
       "Text(0, 0.5, 'Stock Price')"
      ]
     },
     "execution_count": 19,
     "metadata": {},
     "output_type": "execute_result"
    },
    {
     "data": {
      "image/png": "[encoded data removed]",
      "text/plain": [
       "<Figure size 640x480 with 1 Axes>"
      ]
     },
     "metadata": {},
     "output_type": "display_data"
    }
   ],
   "source": [
    "import matplotlib.pyplot as plt\n",
    "\n",
    "N=100000\n",
    "sigma = 0.4\n",
    "T = 0.5\n",
    "K = 105\n",
    "r= 0.05\n",
    "dt = T / N\n",
    "Heads = np.exp(sigma * np.sqrt(dt))\n",
    "Tails = np.exp(-sigma * np.sqrt(dt))\n",
    "S0 = 100\n",
    "p = (  np.exp(r*dt) - Tails )  /  ( Heads - Tails )\n",
    "paths = np.random.choice([Heads,Tails],p=[p,1-p],size=(N,1))\n",
    "plt.plot(paths.cumprod(axis=0)*100, color='black');\n",
    "plt.xlabel('Steps')\n",
    "plt.ylabel('Stock Price')"
   ]
  },
  {
   "cell_type": "code",
   "execution_count": 20,
   "id": "462c605a",
   "metadata": {
    "ExecuteTime": {
     "end_time": "2024-07-08T14:01:48.582035Z",
     "start_time": "2024-07-08T14:00:24.219672Z"
    }
   },
   "outputs": [
    {
     "data": {
      "image/png": "[encoded data removed]",
      "text/plain": [
       "<Figure size 640x480 with 1 Axes>"
      ]
     },
     "metadata": {},
     "output_type": "display_data"
    }
   ],
   "source": [
    "paths = np.random.choice([Heads,Tails],p=[p,1-p],size=(N,1000))\n",
    "plt.plot(paths.cumprod(axis=0)*100, color='black');"
   ]
  },
  {
   "cell_type": "markdown",
   "id": "12a232cb",
   "metadata": {},
   "source": [
    "---"
   ]
  },
  {
   "cell_type": "markdown",
   "id": "93e2fa30",
   "metadata": {},
   "source": [
    "# Pricing Real Options on Yahoo Finance"
   ]
  },
  {
   "cell_type": "code",
   "execution_count": 3,
   "id": "d8bcc7fd",
   "metadata": {
    "ExecuteTime": {
     "end_time": "2024-07-09T00:33:21.731683Z",
     "start_time": "2024-07-09T00:33:21.721352Z"
    }
   },
   "outputs": [],
   "source": [
    "import pandas as pd\n",
    "import pandas_datareader.data as web\n",
    "import numpy as np\n",
    "import datetime as dt\n",
    "import math\n",
    "\n",
    "import matplotlib.pyplot as plt\n",
    "\n",
    "\n",
    "def combos(n, i):\n",
    "    return math.factorial(n) / (math.factorial(n-i)*math.factorial(i))\n",
    "\n",
    "\n",
    "\n",
    "def binom_EU1(S0, K , T, r, sigma, N, type_ = 'call'):\n",
    "    dt = T/N\n",
    "    u = np.exp(sigma * np.sqrt(dt))\n",
    "    d = np.exp(-sigma * np.sqrt(dt))\n",
    "    p = (  np.exp(r*dt) - d )  /  (  u - d )\n",
    "    value = 0 \n",
    "    for i in range(N+1):\n",
    "        node_prob = combos(N, i)*p**i*(1-p)**(N-i)\n",
    "        ST = S0*(u)**i*(d)**(N-i)\n",
    "        if type_ == 'call':\n",
    "            value += max(ST-K,0) * node_prob\n",
    "        elif type_ == 'put':\n",
    "            value += max(K-ST, 0)*node_prob\n",
    "        else:\n",
    "            raise ValueError(\"type_ must be 'call' or 'put'\" )\n",
    "    \n",
    "    return value*np.exp(-r*T)\n",
    "\n",
    "\n",
    "def get_data(symbol):\n",
    "    obj = web.YahooOptions(f'{symbol}')\n",
    "    obj.headers = {'User-Agent': 'Firefox'}\n",
    "    \n",
    "    df = obj.get_all_data()\n",
    "\n",
    "    df.reset_index(inplace=True)\n",
    "\n",
    "    df['mid_price'] = (df.Ask+df.Bid) / 2\n",
    "    df['Time'] = (df.Expiry - dt.datetime.now()).dt.days / 255\n",
    "    \n",
    "    return df[(df.Bid>0) & (df.Ask >0)]\n",
    "\n",
    "\n"
   ]
  },
  {
   "cell_type": "code",
   "execution_count": 4,
   "id": "a0c70dc7",
   "metadata": {
    "ExecuteTime": {
     "end_time": "2024-07-09T00:33:36.479057Z",
     "start_time": "2024-07-09T00:33:35.499179Z"
    }
   },
   "outputs": [
    {
     "ename": "RemoteDataError",
     "evalue": "Unable to read URL: https://query1.finance.yahoo.com/v7/finance/options/TSLA\nResponse Text:\nb'{\"finance\":{\"result\":null,\"error\":{\"code\":\"Unauthorized\",\"description\":\"Invalid Crumb\"}}}'",
     "output_type": "error",
     "traceback": [
      "\u001b[1;31m---------------------------------------------------------------------------\u001b[0m",
      "\u001b[1;31mRemoteDataError\u001b[0m                           Traceback (most recent call last)",
      "Cell \u001b[1;32mIn[4], line 1\u001b[0m\n\u001b[1;32m----> 1\u001b[0m df \u001b[38;5;241m=\u001b[39m get_data(\u001b[38;5;124m'\u001b[39m\u001b[38;5;124mTSLA\u001b[39m\u001b[38;5;124m'\u001b[39m)\n",
      "Cell \u001b[1;32mIn[3], line 38\u001b[0m, in \u001b[0;36mget_data\u001b[1;34m(symbol)\u001b[0m\n\u001b[0;32m     35\u001b[0m obj \u001b[38;5;241m=\u001b[39m web\u001b[38;5;241m.\u001b[39mYahooOptions(\u001b[38;5;124mf\u001b[39m\u001b[38;5;124m'\u001b[39m\u001b[38;5;132;01m{\u001b[39;00msymbol\u001b[38;5;132;01m}\u001b[39;00m\u001b[38;5;124m'\u001b[39m)\n\u001b[0;32m     36\u001b[0m obj\u001b[38;5;241m.\u001b[39mheaders \u001b[38;5;241m=\u001b[39m {\u001b[38;5;124m'\u001b[39m\u001b[38;5;124mUser-Agent\u001b[39m\u001b[38;5;124m'\u001b[39m: \u001b[38;5;124m'\u001b[39m\u001b[38;5;124mFirefox\u001b[39m\u001b[38;5;124m'\u001b[39m}\n\u001b[1;32m---> 38\u001b[0m df \u001b[38;5;241m=\u001b[39m obj\u001b[38;5;241m.\u001b[39mget_all_data()\n\u001b[0;32m     40\u001b[0m df\u001b[38;5;241m.\u001b[39mreset_index(inplace\u001b[38;5;241m=\u001b[39m\u001b[38;5;28;01mTrue\u001b[39;00m)\n\u001b[0;32m     42\u001b[0m df[\u001b[38;5;124m'\u001b[39m\u001b[38;5;124mmid_price\u001b[39m\u001b[38;5;124m'\u001b[39m] \u001b[38;5;241m=\u001b[39m (df\u001b[38;5;241m.\u001b[39mAsk\u001b[38;5;241m+\u001b[39mdf\u001b[38;5;241m.\u001b[39mBid) \u001b[38;5;241m/\u001b[39m \u001b[38;5;241m2\u001b[39m\n",
      "File \u001b[1;32m~\\anaconda3\\envs\\CQF\\Lib\\site-packages\\pandas_datareader\\yahoo\\options.py:620\u001b[0m, in \u001b[0;36mOptions.get_all_data\u001b[1;34m(self, call, put)\u001b[0m\n\u001b[0;32m    573\u001b[0m \u001b[38;5;28;01mdef\u001b[39;00m \u001b[38;5;21mget_all_data\u001b[39m(\u001b[38;5;28mself\u001b[39m, call\u001b[38;5;241m=\u001b[39m\u001b[38;5;28;01mTrue\u001b[39;00m, put\u001b[38;5;241m=\u001b[39m\u001b[38;5;28;01mTrue\u001b[39;00m):\n\u001b[0;32m    574\u001b[0m \u001b[38;5;250m    \u001b[39m\u001b[38;5;124;03m\"\"\"\u001b[39;00m\n\u001b[0;32m    575\u001b[0m \u001b[38;5;124;03m    ***Experimental***\u001b[39;00m\n\u001b[0;32m    576\u001b[0m \u001b[38;5;124;03m    Gets either call, put, or both data for all available months starting\u001b[39;00m\n\u001b[1;32m   (...)\u001b[0m\n\u001b[0;32m    617\u001b[0m \u001b[38;5;124;03m          on Yahoo and may change.\u001b[39;00m\n\u001b[0;32m    618\u001b[0m \u001b[38;5;124;03m    \"\"\"\u001b[39;00m\n\u001b[1;32m--> 620\u001b[0m     \u001b[38;5;28;01mreturn\u001b[39;00m \u001b[38;5;28mself\u001b[39m\u001b[38;5;241m.\u001b[39m_load_data()\n",
      "File \u001b[1;32m~\\anaconda3\\envs\\CQF\\Lib\\site-packages\\pandas_datareader\\yahoo\\options.py:854\u001b[0m, in \u001b[0;36mOptions._load_data\u001b[1;34m(self, exp_dates)\u001b[0m\n\u001b[0;32m    852\u001b[0m \u001b[38;5;28;01mtry\u001b[39;00m:\n\u001b[0;32m    853\u001b[0m     \u001b[38;5;28;01mif\u001b[39;00m exp_dates \u001b[38;5;129;01mis\u001b[39;00m \u001b[38;5;28;01mNone\u001b[39;00m:\n\u001b[1;32m--> 854\u001b[0m         exp_dates \u001b[38;5;241m=\u001b[39m \u001b[38;5;28mself\u001b[39m\u001b[38;5;241m.\u001b[39m_get_expiry_dates()\n\u001b[0;32m    855\u001b[0m     exp_unix_times \u001b[38;5;241m=\u001b[39m [\n\u001b[0;32m    856\u001b[0m         \u001b[38;5;28mint\u001b[39m(\n\u001b[0;32m    857\u001b[0m             (\n\u001b[1;32m   (...)\u001b[0m\n\u001b[0;32m    861\u001b[0m         \u001b[38;5;28;01mfor\u001b[39;00m exp_date \u001b[38;5;129;01min\u001b[39;00m exp_dates\n\u001b[0;32m    862\u001b[0m     ]\n\u001b[0;32m    863\u001b[0m     \u001b[38;5;28;01mfor\u001b[39;00m exp_date \u001b[38;5;129;01min\u001b[39;00m exp_unix_times:\n",
      "File \u001b[1;32m~\\anaconda3\\envs\\CQF\\Lib\\site-packages\\pandas_datareader\\yahoo\\options.py:681\u001b[0m, in \u001b[0;36mOptions._get_expiry_dates\u001b[1;34m(self)\u001b[0m\n\u001b[0;32m    672\u001b[0m \u001b[38;5;250m\u001b[39m\u001b[38;5;124;03m\"\"\"\u001b[39;00m\n\u001b[0;32m    673\u001b[0m \u001b[38;5;124;03mGets available expiry dates.\u001b[39;00m\n\u001b[0;32m    674\u001b[0m \n\u001b[1;32m   (...)\u001b[0m\n\u001b[0;32m    677\u001b[0m \u001b[38;5;124;03mList of datetime.date objects\u001b[39;00m\n\u001b[0;32m    678\u001b[0m \u001b[38;5;124;03m\"\"\"\u001b[39;00m\n\u001b[0;32m    680\u001b[0m url \u001b[38;5;241m=\u001b[39m \u001b[38;5;28mself\u001b[39m\u001b[38;5;241m.\u001b[39m_OPTIONS_BASE_URL\u001b[38;5;241m.\u001b[39mformat(sym\u001b[38;5;241m=\u001b[39m\u001b[38;5;28mself\u001b[39m\u001b[38;5;241m.\u001b[39msymbol)\n\u001b[1;32m--> 681\u001b[0m jd \u001b[38;5;241m=\u001b[39m \u001b[38;5;28mself\u001b[39m\u001b[38;5;241m.\u001b[39m_parse_url(url)\n\u001b[0;32m    683\u001b[0m expiry_dates \u001b[38;5;241m=\u001b[39m [\n\u001b[0;32m    684\u001b[0m     dt\u001b[38;5;241m.\u001b[39mdatetime\u001b[38;5;241m.\u001b[39mutcfromtimestamp(ts)\u001b[38;5;241m.\u001b[39mdate()\n\u001b[0;32m    685\u001b[0m     \u001b[38;5;28;01mfor\u001b[39;00m ts \u001b[38;5;129;01min\u001b[39;00m jd[\u001b[38;5;124m\"\u001b[39m\u001b[38;5;124moptionChain\u001b[39m\u001b[38;5;124m\"\u001b[39m][\u001b[38;5;124m\"\u001b[39m\u001b[38;5;124mresult\u001b[39m\u001b[38;5;124m\"\u001b[39m][\u001b[38;5;241m0\u001b[39m][\u001b[38;5;124m\"\u001b[39m\u001b[38;5;124mexpirationDates\u001b[39m\u001b[38;5;124m\"\u001b[39m]\n\u001b[0;32m    686\u001b[0m ]\n\u001b[0;32m    688\u001b[0m \u001b[38;5;28;01mif\u001b[39;00m \u001b[38;5;28mlen\u001b[39m(expiry_dates) \u001b[38;5;241m==\u001b[39m \u001b[38;5;241m0\u001b[39m:\n",
      "File \u001b[1;32m~\\anaconda3\\envs\\CQF\\Lib\\site-packages\\pandas_datareader\\yahoo\\options.py:707\u001b[0m, in \u001b[0;36mOptions._parse_url\u001b[1;34m(self, url)\u001b[0m\n\u001b[0;32m    694\u001b[0m \u001b[38;5;28;01mdef\u001b[39;00m \u001b[38;5;21m_parse_url\u001b[39m(\u001b[38;5;28mself\u001b[39m, url):\n\u001b[0;32m    695\u001b[0m \u001b[38;5;250m    \u001b[39m\u001b[38;5;124;03m\"\"\"\u001b[39;00m\n\u001b[0;32m    696\u001b[0m \n\u001b[0;32m    697\u001b[0m \u001b[38;5;124;03m    Downloads and parses a URL into a json object.\u001b[39;00m\n\u001b[1;32m   (...)\u001b[0m\n\u001b[0;32m    705\u001b[0m \u001b[38;5;124;03m    A JSON object\u001b[39;00m\n\u001b[0;32m    706\u001b[0m \u001b[38;5;124;03m    \"\"\"\u001b[39;00m\n\u001b[1;32m--> 707\u001b[0m     jd \u001b[38;5;241m=\u001b[39m json\u001b[38;5;241m.\u001b[39mloads(\u001b[38;5;28mself\u001b[39m\u001b[38;5;241m.\u001b[39m_read_url_as_StringIO(url)\u001b[38;5;241m.\u001b[39mread())\n\u001b[0;32m    708\u001b[0m     \u001b[38;5;28;01mif\u001b[39;00m jd \u001b[38;5;129;01mis\u001b[39;00m \u001b[38;5;28;01mNone\u001b[39;00m:  \u001b[38;5;66;03m# pragma: no cover\u001b[39;00m\n\u001b[0;32m    709\u001b[0m         \u001b[38;5;28;01mraise\u001b[39;00m RemoteDataError(\n\u001b[0;32m    710\u001b[0m             \u001b[38;5;124m\"\u001b[39m\u001b[38;5;124mParsed URL \u001b[39m\u001b[38;5;132;01m{0!r}\u001b[39;00m\u001b[38;5;124m is not \u001b[39m\u001b[38;5;124m\"\u001b[39m \u001b[38;5;124m\"\u001b[39m\u001b[38;5;124ma valid json object\u001b[39m\u001b[38;5;124m\"\u001b[39m\u001b[38;5;241m.\u001b[39mformat(url)\n\u001b[0;32m    711\u001b[0m         )\n",
      "File \u001b[1;32m~\\anaconda3\\envs\\CQF\\Lib\\site-packages\\pandas_datareader\\base.py:119\u001b[0m, in \u001b[0;36m_BaseReader._read_url_as_StringIO\u001b[1;34m(self, url, params)\u001b[0m\n\u001b[0;32m    115\u001b[0m \u001b[38;5;28;01mdef\u001b[39;00m \u001b[38;5;21m_read_url_as_StringIO\u001b[39m(\u001b[38;5;28mself\u001b[39m, url, params\u001b[38;5;241m=\u001b[39m\u001b[38;5;28;01mNone\u001b[39;00m):\n\u001b[0;32m    116\u001b[0m \u001b[38;5;250m    \u001b[39m\u001b[38;5;124;03m\"\"\"\u001b[39;00m\n\u001b[0;32m    117\u001b[0m \u001b[38;5;124;03m    Open url (and retry)\u001b[39;00m\n\u001b[0;32m    118\u001b[0m \u001b[38;5;124;03m    \"\"\"\u001b[39;00m\n\u001b[1;32m--> 119\u001b[0m     response \u001b[38;5;241m=\u001b[39m \u001b[38;5;28mself\u001b[39m\u001b[38;5;241m.\u001b[39m_get_response(url, params\u001b[38;5;241m=\u001b[39mparams)\n\u001b[0;32m    120\u001b[0m     text \u001b[38;5;241m=\u001b[39m \u001b[38;5;28mself\u001b[39m\u001b[38;5;241m.\u001b[39m_sanitize_response(response)\n\u001b[0;32m    121\u001b[0m     out \u001b[38;5;241m=\u001b[39m StringIO()\n",
      "File \u001b[1;32m~\\anaconda3\\envs\\CQF\\Lib\\site-packages\\pandas_datareader\\base.py:181\u001b[0m, in \u001b[0;36m_BaseReader._get_response\u001b[1;34m(self, url, params, headers)\u001b[0m\n\u001b[0;32m    178\u001b[0m \u001b[38;5;28;01mif\u001b[39;00m last_response_text:\n\u001b[0;32m    179\u001b[0m     msg \u001b[38;5;241m+\u001b[39m\u001b[38;5;241m=\u001b[39m \u001b[38;5;124m\"\u001b[39m\u001b[38;5;130;01m\\n\u001b[39;00m\u001b[38;5;124mResponse Text:\u001b[39m\u001b[38;5;130;01m\\n\u001b[39;00m\u001b[38;5;132;01m{0}\u001b[39;00m\u001b[38;5;124m\"\u001b[39m\u001b[38;5;241m.\u001b[39mformat(last_response_text)\n\u001b[1;32m--> 181\u001b[0m \u001b[38;5;28;01mraise\u001b[39;00m RemoteDataError(msg)\n",
      "\u001b[1;31mRemoteDataError\u001b[0m: Unable to read URL: https://query1.finance.yahoo.com/v7/finance/options/TSLA\nResponse Text:\nb'{\"finance\":{\"result\":null,\"error\":{\"code\":\"Unauthorized\",\"description\":\"Invalid Crumb\"}}}'"
     ]
    }
   ],
   "source": [
    "df = get_data('TSLA')\n"
   ]
  },
  {
   "cell_type": "code",
   "execution_count": null,
   "id": "252b1676",
   "metadata": {},
   "outputs": [],
   "source": [
    "\n",
    "df = get_data('TSLA')\n",
    "\n",
    "prices = [] \n",
    "\n",
    "\n",
    "for row in df.itertuples():\n",
    "    price = binom_EU1(row.Underlying_Price, row.Strike, row.Time, 0.01, 0.5, 20, row.Type)\n",
    "    prices.append(price)\n",
    "    \n",
    "    \n",
    "df['Price'] = prices\n",
    "    \n",
    "df['error'] = df.mid_price - df.Price \n",
    "    \n",
    "    \n",
    "exp1 = df[(df.Expiry == df.Expiry.unique()[2]) & (df.Type=='call')]\n",
    "\n",
    "\n",
    "plt.plot(exp1.Strike, exp1.mid_price,label= 'Mid Price')\n",
    "plt.plot(exp1.Strike, exp1.Price, label = 'Calculated Price')\n",
    "plt.xlabel('Strike')\n",
    "plt.ylabel('Call Value')\n",
    "plt.legend()\n"
   ]
  }
 ],
 "metadata": {
  "kernelspec": {
   "display_name": "Python 3 (ipykernel)",
   "language": "python",
   "name": "python3"
  },
  "language_info": {
   "codemirror_mode": {
    "name": "ipython",
    "version": 3
   },
   "file_extension": ".py",
   "mimetype": "text/x-python",
   "name": "python",
   "nbconvert_exporter": "python",
   "pygments_lexer": "ipython3",
   "version": "3.12.3"
  },
  "toc": {
   "base_numbering": 1,
   "nav_menu": {},
   "number_sections": true,
   "sideBar": true,
   "skip_h1_title": false,
   "title_cell": "Table of Contents",
   "title_sidebar": "Contents",
   "toc_cell": false,
   "toc_position": {},
   "toc_section_display": true,
   "toc_window_display": false
  },
  "varInspector": {
   "cols": {
    "lenName": 16,
    "lenType": 16,
    "lenVar": 40
   },
   "kernels_config": {
    "python": {
     "delete_cmd_postfix": "",
     "delete_cmd_prefix": "del ",
     "library": "var_list.py",
     "varRefreshCmd": "print(var_dic_list())"
    },
    "r": {
     "delete_cmd_postfix": ") ",
     "delete_cmd_prefix": "rm(",
     "library": "var_list.r",
     "varRefreshCmd": "cat(var_dic_list()) "
    }
   },
   "types_to_exclude": [
    "module",
    "function",
    "builtin_function_or_method",
    "instance",
    "_Feature"
   ],
   "window_display": false
  }
 },
 "nbformat": 4,
 "nbformat_minor": 5
}
